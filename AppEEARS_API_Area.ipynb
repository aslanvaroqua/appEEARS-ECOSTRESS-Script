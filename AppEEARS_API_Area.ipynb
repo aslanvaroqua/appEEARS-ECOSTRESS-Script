{
 "cells": [
  {
   "cell_type": "markdown",
   "metadata": {},
   "source": [
    "# Getting Started with the AppEEARS API: Submitting and Downloading an Area Request\n",
    "### This tutorial demonstrates how to use Python to connect to the AppEEARS API \n",
    "The Application for Extracting and Exploring Analysis Ready Samples ([AppEEARS](https://lpdaacsvc.cr.usgs.gov/appeears/)) offers a simple and efficient way to access and transform geospatial data from a variety of federal data archives in an easy-to-use web application interface. \n",
    "\n",
    "The [AppEEARS API](https://lpdaacsvc.cr.usgs.gov/appeears/api/) offers users **programmatic access** to all features available in AppEEARS, with the exception of visualizations. The API features are demonstrated in this notebook.  \n",
    "***\n",
    "### Example: Submit an area request with the continental United States as the region of interest for extracting land surface temperature data.    \n",
    "AppEEARS area sample requests allow users to subset their desired data by spatial area via vector polygons (shapefiles or GeoJSONs). Users can also reproject and reformat the output data. AppEEARS returns the valid data from the parameters defined within the sample request.    \n",
    "\n",
    "#### Data Used in the Example:\n",
    "- Data layers:   \n",
    "    - ECOSTRESS Land Surface Temperature Daily 70m  \n",
    "        - [ECO2LSTE.001],   \n",
    "***  \n",
    "# Table of Contents:\n",
    "1. **Getting Started/Pre Reqs**  \n",
    "    1a. Enable Access to the API  \n",
    "    1b. Set Up the Working Environment    \n",
    "    1c. Login  \n",
    "  \n",
    "3. **Submit an Area Request [Tasks]**  \n",
    "    3a. Import a Shapefile  \n",
    "    3b. Search and Explore Available Projections [Spatial API]   \n",
    "    3c. Compile a JSON [Task Object]  \n",
    "    3d. Submit a Task Request [Submit Task]  \n",
    "    3e. Retrieve Task Status [Retrieve Task]  \n",
    "    \n",
    "4. **Download a Request [Bundle API]**    \n",
    "    4a. Explore Files in Request Output [List Files]    \n",
    "    4b. Download all Files in a Request [Download File]   \n",
    "  \n",
    "***\n",
    "### Dependencies:\n",
    "- This tutorial was tested using Python 3.6.1.  \n",
    "- A [NASA Earthdata Login](https://urs.earthdata.nasa.gov/) account is required to complete this tutorial. You can create an account at the link provided.    \n",
    "- To execute section 6, the [Geospatial Data Abstraction Library](http://www.gdal.org/) (GDAL) is required. \n",
    "***\n",
    "### AppEEARS Information:\n",
    "To access AppEEARS, visit: https://lpdaacsvc.cr.usgs.gov/appeears/  \n",
    "> For comprehensive documentation of the full functionality of the AppEEARS API, please see the AppEEARS [API Documentation](https://lpdaacsvc.cr.usgs.gov/appeears/api/) \n",
    "\n",
    "\n",
    "***\n",
    "\n",
    "### Source Code used to Generate this Tutorial: UPDATE LATER\n",
    "- [Jupyter Notebook](https://git.earthdata.nasa.gov/projects/LPDUR/repos/cole-sandbox/browse/.ipynb_checkpoints/AppEEARS_GeoTIFF_TS-checkpoint.ipynb) "
   ]
  },
  {
   "cell_type": "markdown",
   "metadata": {},
   "source": [
    "***"
   ]
  },
  {
   "cell_type": "markdown",
   "metadata": {},
   "source": [
    "# 1. Getting Started\n",
    "<div class=\"alert alert-block alert-warning\" >\n",
    "<b>NOTE:</b> If this is your first time using the AppEEARS API, you must first enable API access by following the instructions provided below.</div> "
   ]
  },
  {
   "cell_type": "markdown",
   "metadata": {},
   "source": [
    "***\n",
    "##  Enable Access to the API\n",
    "#### AppEEARS API access requires the same [NASA Earthdata Login](https://urs.earthdata.nasa.gov/) as the AρρEEARS user interface. In addition to having a valid NASA Earthdata Login account, the API feature must be enabled for the user within AρρEEARS.\n",
    "#### To enable access to the AppEEARS API, navigate to the [AppEEARS website](https://lpdaacsvc.cr.usgs.gov/appeears/). Click the *Sign In* button in the top right portion of the AppEEARS landing page screen.  \n",
    "![AppEEARS Sign In](https://lpdaacsvc.cr.usgs.gov/assets/images/help/image001.73bb446d.png)  \n",
    "#### Once you are signed in, click the *Manage User* icon in the top right portion of the AppEEARS landing page screen and select *Settings*. \n",
    "![Manage User -> Settings](https://lpdaacsvc.cr.usgs.gov/assets/images/help/api/image001.30a681c0.png)      \n",
    "#### Select the *Enable API* box to gain access to the AppEEARS API.  \n",
    "![Enable API Access](https://lpdaacsvc.cr.usgs.gov/assets/images/help/api/image002.2262e4d3.png)"
   ]
  },
  {
   "cell_type": "markdown",
   "metadata": {},
   "source": [
    "***\n",
    "## Set Up the Working Environment\n",
    "#### Next, import the required packages, set the input/working directory, and create an output directory for the results."
   ]
  },
  {
   "cell_type": "code",
   "execution_count": 1,
   "metadata": {},
   "outputs": [],
   "source": [
    "# Import packages\n",
    "import requests as r\n",
    "import getpass, pprint, time, os, cgi"
   ]
  },
  {
   "cell_type": "markdown",
   "metadata": {},
   "source": [
    "#### If you are missing any of the packages above, download them in order to use the full functionality of this tutorial. "
   ]
  },
  {
   "cell_type": "code",
   "execution_count": 2,
   "metadata": {},
   "outputs": [],
   "source": [
    "# Set input directory, change working directory\n",
    "inDir = '/home/osboxes/inDir'            # IMPORTANT: Update to dir on your OS\n",
    "os.chdir(inDir)                                                                 # Change to working directory\n",
    "\n",
    "# below, set the AppEEARS API to a variable (this URL also will take you to the AppEEARS API documentation)\n",
    "api = 'https://lpdaacsvc.cr.usgs.gov/appeears/api/'"
   ]
  },
  {
   "cell_type": "markdown",
   "metadata": {},
   "source": [
    "<div class=\"alert alert-block alert-warning\" >\n",
    "<b>If you plan to execute this tutorial on your own OS, `inDir` above needs to be changed.</b>\n",
    "</div> "
   ]
  },
  {
   "cell_type": "markdown",
   "metadata": {},
   "source": [
    "***\n",
    "## Login\n",
    "#### To submit a request, you must first login to the AppEEARS API. Use the `getpass` package to enter your NASA Earthdata login **Username** and **Password**. When prompted after executing the code block below, enter your username followed by your password."
   ]
  },
  {
   "cell_type": "code",
   "execution_count": 3,
   "metadata": {},
   "outputs": [],
   "source": [
    "user = 'skylinesgis'      # Input NASA Earthdata Login Username\n",
    "password = '12FUCKthisshit!'  # Input NASA Earthdata Login Password"
   ]
  },
  {
   "cell_type": "markdown",
   "metadata": {},
   "source": [
    "#### Use the `requests` package to post your username and password. A successful login will provide you with a token to be used later in this tutorial to submit a request. For more information or if you are experiencing difficulties, please see the [API Documentation](https://lpdaacsvc.cr.usgs.gov/appeears/api/?language=Python%203#login)"
   ]
  },
  {
   "cell_type": "code",
   "execution_count": 4,
   "metadata": {},
   "outputs": [
    {
     "data": {
      "text/plain": [
       "{'token_type': 'Bearer',\n",
       " 'token': 'r09sgRLjIqyzUB6BScaLyjU7Gy2QWiarNRvC8RmWcbi03ye9pVQvHbTZmtLs0v8v6410CjA7QKCV3dwEKF-yMQ',\n",
       " 'expiration': '2019-11-24T10:00:18Z'}"
      ]
     },
     "execution_count": 4,
     "metadata": {},
     "output_type": "execute_result"
    }
   ],
   "source": [
    "token_response = r.post('{}login'.format(api), auth=(user, password)).json() # Insert base API URL, call the login service, provide credentials & return json\n",
    "del user, password                                                           # Remove user and password information upon a successful login \n",
    "token_response                                                               # Print response"
   ]
  },
  {
   "cell_type": "markdown",
   "metadata": {},
   "source": [
    "***\n",
    "## Submit an Area Request [[Tasks](https://lpdaacsvc.cr.usgs.gov/appeears/api/?language=Python%203#tasks)]\n",
    "#### The **Submit task** API call provides a way to submit a new request to be processed. It can accept data via JSON, query string, or a combination of both. In the example below, compile a json and submit a request. Tasks in AppEEARS correspond to each request associated with your user account. Therefore, each of the calls to this service requires an authentication token (see Section 1C.), which is stored in a header below. "
   ]
  },
  {
   "cell_type": "code",
   "execution_count": 5,
   "metadata": {},
   "outputs": [],
   "source": [
    "token = token_response['token']                      # Save login token to a variable\n",
    "head = {'Authorization': 'Bearer {}'.format(token)}  # Create a header to store token information, needed to submit a request below"
   ]
  },
  {
   "cell_type": "markdown",
   "metadata": {},
   "source": [
    "## Import a Shapefile\n",
    "#### In this section, begin by importing a shapefile using the `geopandas` package. The shapefile is publically available for download from the [NPS website](https://irma.nps.gov/DataStore/Reference/Profile/2224545?lnv=True)."
   ]
  },
  {
   "cell_type": "code",
   "execution_count": 6,
   "metadata": {},
   "outputs": [
    {
     "name": "stdout",
     "output_type": "stream",
     "text": [
      "    AFFGEOID GEOID           NAME  \\\n",
      "0  0100000US    US  United States   \n",
      "\n",
      "                                            geometry  \n",
      "0  MULTIPOLYGON (((179.48246 51.98283, 179.48656 ...  \n"
     ]
    }
   ],
   "source": [
    "try:\n",
    "    import geopandas as gpd\n",
    "except:\n",
    "    !python -m pip install geopandas\n",
    "    import geopandas as gpd\n",
    "\n",
    "import json\n",
    "\n",
    "# Read in shapefile\n",
    "nps = gpd.read_file('{}/cb_2018_us_nation_5m.shp'.format(inDir)) # UPDATE\n",
    "print(nps.head())                                                              # Print first few lines of df"
   ]
  },
  {
   "cell_type": "markdown",
   "metadata": {},
   "source": [
    "#### Below, query the geopandas dataframe for the national park that you are interested in using for your region of interest, here *United States of America (continental)"
   ]
  },
  {
   "cell_type": "code",
   "execution_count": 7,
   "metadata": {},
   "outputs": [],
   "source": [
    "nps_gc = nps.to_json() # Extract GCNP and set to variable\n",
    "nps_gc = json.loads(nps_gc)                                            # Convert to json format"
   ]
  },
  {
   "cell_type": "markdown",
   "metadata": {},
   "source": [
    "---\n",
    "##  Search and Explore Available Projections [[Spatial API](https://lpdaacsvc.cr.usgs.gov/appeears/api/?language=Python%203#spatial)]   \n",
    "#### The spatial API provides some helper services used to support submitting area task requests. The call below will retrieve the list of supported projections in AppEEARS."
   ]
  },
  {
   "cell_type": "code",
   "execution_count": 8,
   "metadata": {},
   "outputs": [
    {
     "data": {
      "text/plain": [
       "[{'Name': 'native',\n",
       "  'Description': 'Native Projection',\n",
       "  'Platforms': '',\n",
       "  'Proj4': '',\n",
       "  'Datum': '',\n",
       "  'EPSG': '',\n",
       "  'Units': '',\n",
       "  'GridMapping': '',\n",
       "  'Available': True},\n",
       " {'Name': 'geographic',\n",
       "  'Description': 'Geographic',\n",
       "  'Platforms': \"['SRTM', 'ECOSTRESS', 'SSEBop ET', 'GPW', 'ASTER GDEM']\",\n",
       "  'Proj4': '+proj=longlat +datum=WGS84 +no_defs',\n",
       "  'Datum': 'wgs84',\n",
       "  'EPSG': 4326.0,\n",
       "  'Units': 'degrees',\n",
       "  'GridMapping': 'latitude_longitude',\n",
       "  'Available': True},\n",
       " {'Name': 'sinu_modis',\n",
       "  'Description': 'MODIS Sinusoidal',\n",
       "  'Platforms': \"['Combined MODIS', 'Terra MODIS', 'Aqua MODIS', 'S-NPP NASA VIIRS', 'Global WELD']\",\n",
       "  'Proj4': '+proj=sinu +lon_0=0 +x_0=0 +y_0=0 +a=6371007.181 +b=6371007.181 +units=m +no_defs',\n",
       "  'Datum': '',\n",
       "  'EPSG': '',\n",
       "  'Units': 'meters',\n",
       "  'GridMapping': 'sinusoidal',\n",
       "  'Available': True},\n",
       " {'Name': 'albers_weld_alaska',\n",
       "  'Description': 'WELD Albers Equal Area Alaska',\n",
       "  'Platforms': \"['WELD']\",\n",
       "  'Proj4': '+proj=aea +lat_1=55 +lat_2=65 +lat_0=50 +lon_0=-154 +x_0=0 +y_0=0 +datum=WGS84 +units=m +no_defs',\n",
       "  'Datum': 'wgs84',\n",
       "  'EPSG': '',\n",
       "  'Units': 'meters',\n",
       "  'GridMapping': 'albers_conical_equal_area',\n",
       "  'Available': True},\n",
       " {'Name': 'albers_weld_conus',\n",
       "  'Description': 'WELD Albers Equal Area CONUS',\n",
       "  'Platforms': \"['WELD']\",\n",
       "  'Proj4': '+proj=aea +lat_1=29.5 +lat_2=45.5 +lat_0=23 +lon_0=-96 +x_0=0 +y_0=0 +datum=WGS84 +units=m +no_defs',\n",
       "  'Datum': 'wgs84',\n",
       "  'EPSG': '',\n",
       "  'Units': 'meters',\n",
       "  'GridMapping': 'albers_conical_equal_area',\n",
       "  'Available': True},\n",
       " {'Name': 'albers_ard_alaska',\n",
       "  'Description': 'Landsat ARD Albers Equal Area Alaska',\n",
       "  'Platforms': \"['Landsat ARD']\",\n",
       "  'Proj4': '+proj=aea +lat_1=55 +lat_2=65 +lat_0=50 +lon_0=-154 +x_0=0 +y_0=0 +datum=WGS84 +units=m +no_defs',\n",
       "  'Datum': 'wgs84',\n",
       "  'EPSG': '',\n",
       "  'Units': 'meters',\n",
       "  'GridMapping': 'albers_conical_equal_area',\n",
       "  'Available': True},\n",
       " {'Name': 'albers_ard_conus',\n",
       "  'Description': 'Landsat ARD Albers Equal Area CONUS',\n",
       "  'Platforms': \"['Landsat ARD']\",\n",
       "  'Proj4': '+proj=aea +lat_1=29.5 +lat_2=45.5 +lat_0=23 +lon_0=-96 +x_0=0 +y_0=0 +datum=WGS84 +units=m +no_defs',\n",
       "  'Datum': 'wgs84',\n",
       "  'EPSG': '',\n",
       "  'Units': 'meters',\n",
       "  'GridMapping': 'albers_conical_equal_area',\n",
       "  'Available': True},\n",
       " {'Name': 'albers_ard_hawaii',\n",
       "  'Description': 'Landsat ARD Albers Equal Area Hawaii',\n",
       "  'Platforms': \"['Landsat ARD']\",\n",
       "  'Proj4': '+proj=aea +lat_1=8 +lat_2=18 +lat_0=3 +lon_0=-157 +x_0=0 +y_0=0 +datum=WGS84 +units=m +no_defs',\n",
       "  'Datum': 'wgs84',\n",
       "  'EPSG': '',\n",
       "  'Units': 'meters',\n",
       "  'GridMapping': 'albers_conical_equal_area',\n",
       "  'Available': True},\n",
       " {'Name': 'easegrid_2_global',\n",
       "  'Description': 'EASE-Grid 2.0 Global',\n",
       "  'Platforms': \"['SMAP']\",\n",
       "  'Proj4': '+proj=cea +lon_0=0 +lat_ts=30 +x_0=0 +y_0=0 +datum=WGS84 +units=m +no_defs',\n",
       "  'Datum': 'wgs84',\n",
       "  'EPSG': 6933.0,\n",
       "  'Units': 'meters',\n",
       "  'GridMapping': 'lambert_cylindrical_equal_area',\n",
       "  'Available': True},\n",
       " {'Name': 'easegrid_2_north',\n",
       "  'Description': 'EASE-Grid 2.0 Northern Hemisphere',\n",
       "  'Platforms': \"['SMAP']\",\n",
       "  'Proj4': '+proj=laea +lat_0=90 +lon_0=0 +x_0=0 +y_0=0 +datum=WGS84 +units=m +no_defs',\n",
       "  'Datum': 'wgs84',\n",
       "  'EPSG': 6931.0,\n",
       "  'Units': 'meters',\n",
       "  'GridMapping': 'lambert_cylindrical_equal_area',\n",
       "  'Available': True},\n",
       " {'Name': 'laea_sphere_19',\n",
       "  'Description': 'Lambert Azimuthal Equal Area Sphere 19',\n",
       "  'Platforms': \"['eMODIS Smoothed NDVI']\",\n",
       "  'Proj4': '+proj=laea +lat_0=45 +lon_0=-100 +x_0=0 +y_0=0 +a=6370997 +b=6370997 +units=m +no_defs',\n",
       "  'Datum': '',\n",
       "  'EPSG': '',\n",
       "  'Units': 'meters',\n",
       "  'GridMapping': 'lambert_azimuthal_equal_area',\n",
       "  'Available': True}]"
      ]
     },
     "execution_count": 8,
     "metadata": {},
     "output_type": "execute_result"
    }
   ],
   "source": [
    "projections = r.get('{}spatial/proj'.format(api)).json()  # Call to spatial API, return projs as json\n",
    "projections                                               # Print projections and information"
   ]
  },
  {
   "cell_type": "markdown",
   "metadata": {},
   "source": [
    "#### Create a dictionary of projections with projection `Name` as the keys."
   ]
  },
  {
   "cell_type": "code",
   "execution_count": 9,
   "metadata": {},
   "outputs": [
    {
     "data": {
      "text/plain": [
       "['native',\n",
       " 'geographic',\n",
       " 'sinu_modis',\n",
       " 'albers_weld_alaska',\n",
       " 'albers_weld_conus',\n",
       " 'albers_ard_alaska',\n",
       " 'albers_ard_conus',\n",
       " 'albers_ard_hawaii',\n",
       " 'easegrid_2_global',\n",
       " 'easegrid_2_north',\n",
       " 'laea_sphere_19']"
      ]
     },
     "execution_count": 9,
     "metadata": {},
     "output_type": "execute_result"
    }
   ],
   "source": [
    "projs = {}                                  # Create an empty dictionary\n",
    "for p in projections: projs[p['Name']] = p  # Fill dictionary with `Name` as keys\n",
    "list(projs.keys())                          # Print dictionary keys"
   ]
  },
  {
   "cell_type": "markdown",
   "metadata": {},
   "source": [
    "#### Print the information for the projection used in this tutorial, Geographic."
   ]
  },
  {
   "cell_type": "code",
   "execution_count": 10,
   "metadata": {},
   "outputs": [
    {
     "data": {
      "text/plain": [
       "{'Name': 'native',\n",
       " 'Description': 'Native Projection',\n",
       " 'Platforms': '',\n",
       " 'Proj4': '',\n",
       " 'Datum': '',\n",
       " 'EPSG': '',\n",
       " 'Units': '',\n",
       " 'GridMapping': '',\n",
       " 'Available': True}"
      ]
     },
     "execution_count": 10,
     "metadata": {},
     "output_type": "execute_result"
    }
   ],
   "source": [
    "projs['native']"
   ]
  },
  {
   "cell_type": "markdown",
   "metadata": {},
   "source": [
    "---\n",
    "## 3c. Compile a JSON [[Task Object](https://lpdaacsvc.cr.usgs.gov/appeears/api/?language=Python%203#task-object)]\n",
    "#### In this section, begin by setting up the information needed to compile an acceptable json for submitting an AppEEARS point request. For detailed information on required json parameters, see the [API Documentation](https://lpdaacsvc.cr.usgs.gov/appeears/api/?language=Python%203#tasks). "
   ]
  },
  {
   "cell_type": "code",
   "execution_count": 11,
   "metadata": {},
   "outputs": [
    {
     "name": "stdout",
     "output_type": "stream",
     "text": [
      "Today's date: 2019-11-22\n",
      "11-22-2019 11-12-2019\n"
     ]
    }
   ],
   "source": [
    "\n",
    "from datetime import datetime, timedelta, date\n",
    "today = date.today()\n",
    "print(\"Today's date:\", today)\n",
    "start = datetime.strptime(str(today), \"%Y-%m-%d\") #string to date\n",
    "end = start - timedelta(days=10) # date - days\n",
    "print (start.strftime(\"%m-%d-%Y\"),end.strftime(\"%m-%d-%Y\") )\n",
    "\n",
    "\n",
    "\n",
    "\n",
    "task_type = ['point','area']        # Type of task, area or  point\n",
    "task_name = 'lst_daily'                 # user-defined name of the task 'NPS Vegetation Area' \n",
    "startDate = start.strftime(\"%m-%d-%Y\")            # Start of the date range for  which to extract data: MM-DD-YYYY\n",
    "endDate = end.strftime(\"%m-%d-%Y\")              # End of the date range for  which to extract data: MM-DD-YYYY\n",
    "recurring = False                   # Specify True for a recurring date range\n",
    "# yearRange = [2000, 2016] if recurring = True, set yearRange and change start and end date to MM-DD\n",
    "proj = projs['geographic']['Name']  # Set output projection \n",
    "outFormat = ['geotiff', 'netcdf4']  # Set output file format type\n",
    "\n",
    "\n",
    "\n",
    "# {\"error\": null, \"params\": {\"geo\": {\"type\": \"FeatureCollection\", \n",
    "#                                    \"features\": [{\"type\": \"Feature\", \n",
    "#                                                  \"geometry\": \n",
    "#                                                  {\"type\": \"Polygon\", \n",
    "#                                                   \"coordinates\": [\n",
    "#                                                       [[-123.9609375, 24.046875],\n",
    "#                                                        [-123.9609375, 48.65625], \n",
    "#                                                        [-69.8203125, 48.65625],\n",
    "#                                                        [-69.8203125, 24.046875], \n",
    "#                                                        [-123.9609375, 24.046875]]]}, \n",
    "#                                                  \"properties\": {}}], \n",
    "#                                    \"fileName\": \"User-Drawn-Polygon\"}, \n",
    "#                            \"dates\": [{\"endDate\": \"11-19-2019\", \"startDate\": \"11-12-2019\", \n",
    "#                                       \"yearRange\": [1980, 2050]}], \n",
    "#                            \"layers\": [{\"layer\": \"SDS_LST\", \"product\": \"ECO2LSTE.001\"}],\n",
    "#                            \"output\": {\"format\": {\"type\": \"geotiff\"}, \"projection\": \"native\"}},\n",
    "#  \"status\": \"processing\", \"created\": \"2019-11-20T05:35:28.634090\", \n",
    "#  \"task_id\": \"fd7ce40b-9148-4414-bbb5-374641f03261\", \"updated\": \"2019-11-20T18:38:08.124372\", \"user_id\": \"aslan@denverco.us\", \"retry_at\": null, \"task_name\": \"11-19-2019\", \"task_type\": \"area\", \"api_version\": null, \"svc_version\": \"2.31\", \"web_version\": \"2.31\", \"expires_on\": \"2019-12-20T18:38:08.124372\", \"attempts\": 1}"
   ]
  },
  {
   "cell_type": "markdown",
   "metadata": {},
   "source": [
    "#### Below, compile the JSON to be submitted as a point request. Notice that `nps_gc` is inserted from the shapefile transformed to a json via the `geopandas` and `json` packages above in section 3a. "
   ]
  },
  {
   "cell_type": "code",
   "execution_count": 12,
   "metadata": {},
   "outputs": [],
   "source": [
    "task = {\n",
    "   \"task_type\":\"area\",\n",
    "   \"task_name\":\"kkk\",\n",
    "   \"params\":{\n",
    "      \"geo\":{\n",
    "         \"type\":\"FeatureCollection\",\n",
    "         \"features\":[\n",
    "            {\n",
    "               \"type\":\"Feature\",\n",
    "               \"geometry\":{\n",
    "                  \"type\":\"Polygon\",\n",
    "                  \"coordinates\":[\n",
    "                     [\n",
    "                        [\n",
    "                           -123.9609375,\n",
    "                           24.046875\n",
    "                        ],\n",
    "                        [\n",
    "                           -123.9609375,\n",
    "                           48.65625\n",
    "                        ],\n",
    "                        [\n",
    "                           -69.8203125,\n",
    "                           48.65625\n",
    "                        ],\n",
    "                        [\n",
    "                           -69.8203125,\n",
    "                           24.046875\n",
    "                        ],\n",
    "                        [\n",
    "                           -123.9609375,\n",
    "                           24.046875\n",
    "                        ]\n",
    "                     ]\n",
    "                  ]\n",
    "               },\n",
    "               \"properties\":{\n",
    "\n",
    "               }\n",
    "            }\n",
    "         ],\n",
    "         \"fileName\":\"User-Drawn-Polygon\"\n",
    "      },\n",
    "      \"dates\":[\n",
    "         {\n",
    "            \"endDate\":startDate,\n",
    "            \"startDate\":endDate,\n",
    "            \"yearRange\":[\n",
    "               1980,\n",
    "               2050\n",
    "            ]\n",
    "         }\n",
    "      ],\n",
    "      \"layers\":[\n",
    "         {\n",
    "            \"layer\":\"SDS_LST\",\n",
    "            \"product\":\"ECO2LSTE.001\"\n",
    "         }\n",
    "      ],\n",
    "      \"output\":{\n",
    "         \"format\":{\n",
    "            \"type\":outFormat[0]},\n",
    "         \n",
    "         \"projection\":\"native\"\n",
    "      }\n",
    "   }\n",
    "}\n"
   ]
  },
  {
   "cell_type": "markdown",
   "metadata": {},
   "source": [
    "***\n",
    "## Submit a Task Request [[Submit Task](https://lpdaacsvc.cr.usgs.gov/appeears/api/?language=Python%203#submit-task)]\n",
    "#### Below, post a call to the API task service, using the `task` json created above."
   ]
  },
  {
   "cell_type": "code",
   "execution_count": 15,
   "metadata": {},
   "outputs": [
    {
     "data": {
      "text/plain": [
       "{'task_id': '3b00de7c-ca7d-4237-aa7f-3a0dd0d029d3', 'status': 'pending'}"
      ]
     },
     "execution_count": 15,
     "metadata": {},
     "output_type": "execute_result"
    }
   ],
   "source": [
    "task_response = r.post('{}task'.format(api), json=task, headers=head).json()  # Post the json to the API task service, and return the response as a json\n",
    "task_response                                                                 # Print task response"
   ]
  },
  {
   "cell_type": "markdown",
   "metadata": {},
   "source": [
    "***\n",
    "## 3c. Retrieve Task Status [[Retrieve Task](https://lpdaacsvc.cr.usgs.gov/appeears/api/?language=Python%203#retrieve-task)]\n",
    "#### This API call will list all of the requests associated with your user account, automatically sorted by date descending with the most recent requests listed first. "
   ]
  },
  {
   "cell_type": "markdown",
   "metadata": {},
   "source": [
    "#### The AppEEARS API contains some helpful formatting resources. Below, limit the API response to 4 and set `pretty` to True to format the response as an organized json, making it easier to read. Additional information on AppEEARS API [Pagination](https://lpdaacsvc.cr.usgs.gov/appeears/api/?language=Python%203#pagination) and [formatting](https://lpdaacsvc.cr.usgs.gov/appeears/api/?language=Python%203#formatting) can be found in the API documentation. "
   ]
  },
  {
   "cell_type": "code",
   "execution_count": 16,
   "metadata": {},
   "outputs": [],
   "source": [
    "params = {'limit': 4, 'pretty': True} # Limit API response to 4 most recent entries, and return as pretty json"
   ]
  },
  {
   "cell_type": "code",
   "execution_count": 17,
   "metadata": {},
   "outputs": [
    {
     "data": {
      "text/plain": [
       "[{'params': {'dates': [{'endDate': '11-22-2019',\n",
       "     'startDate': '11-12-2019',\n",
       "     'yearRange': [1980, 2050]}],\n",
       "   'layers': [{'layer': 'SDS_LST', 'product': 'ECO2LSTE.001'}],\n",
       "   'output': {'format': {'type': 'geotiff'}, 'projection': 'native'}},\n",
       "  'status': 'pending',\n",
       "  'created': '2019-11-22T20:22:52.046240',\n",
       "  'task_id': '3b00de7c-ca7d-4237-aa7f-3a0dd0d029d3',\n",
       "  'updated': '2019-11-22T20:22:52.061968',\n",
       "  'user_id': 'aslan@denverco.us',\n",
       "  'task_name': 'kkk',\n",
       "  'task_type': 'area',\n",
       "  'api_version': 'v1',\n",
       "  'svc_version': '2.31.2',\n",
       "  'web_version': None,\n",
       "  'expires_on': '2019-12-22T20:22:52.061968'},\n",
       " {'params': {'dates': [{'endDate': '11-22-2019',\n",
       "     'startDate': '11-12-2019',\n",
       "     'yearRange': [1980, 2050]}],\n",
       "   'layers': [{'layer': 'SDS_LST', 'product': 'ECO2LSTE.001'}],\n",
       "   'output': {'format': {'type': 'geotiff'}, 'projection': 'native'}},\n",
       "  'status': 'pending',\n",
       "  'created': '2019-11-22T20:22:24.940896',\n",
       "  'task_id': 'cf8d0c5d-767b-47a6-996f-57a1ebb9070e',\n",
       "  'updated': '2019-11-22T20:22:24.949580',\n",
       "  'user_id': 'aslan@denverco.us',\n",
       "  'task_name': 'kkk',\n",
       "  'task_type': 'area',\n",
       "  'api_version': 'v1',\n",
       "  'svc_version': '2.31.2',\n",
       "  'web_version': None,\n",
       "  'expires_on': '2019-12-22T20:22:24.949580'},\n",
       " {'params': {'dates': [{'endDate': '11-22-2019',\n",
       "     'startDate': '11-12-2019',\n",
       "     'yearRange': [1980, 2050]}],\n",
       "   'layers': [{'layer': 'SDS_LST', 'product': 'ECO2LSTE.001'}],\n",
       "   'output': {'format': {'type': 'geotiff'}, 'projection': 'native'}},\n",
       "  'status': 'pending',\n",
       "  'created': '2019-11-22T20:14:07.610498',\n",
       "  'task_id': 'd248ec9f-0270-4a44-b462-c7fc3c2ce95e',\n",
       "  'updated': '2019-11-22T20:14:07.619874',\n",
       "  'user_id': 'aslan@denverco.us',\n",
       "  'task_name': 'kkk',\n",
       "  'task_type': 'area',\n",
       "  'api_version': 'v1',\n",
       "  'svc_version': '2.31.2',\n",
       "  'web_version': None,\n",
       "  'expires_on': '2019-12-22T20:14:07.619874'},\n",
       " {'error': None,\n",
       "  'params': {'dates': [{'endDate': '11-19-2019',\n",
       "     'startDate': '11-12-2019',\n",
       "     'yearRange': [1980, 2050]}],\n",
       "   'layers': [{'layer': 'SDS_LST', 'product': 'ECO2LSTE.001'}],\n",
       "   'output': {'format': {'type': 'geotiff'}, 'projection': 'native'}},\n",
       "  'status': 'processing',\n",
       "  'created': '2019-11-22T20:08:13.754273',\n",
       "  'task_id': '2d045025-0b75-4c08-a3a6-cb5349b77cf6',\n",
       "  'updated': '2019-11-22T20:08:14.331384',\n",
       "  'user_id': 'aslan@denverco.us',\n",
       "  'retry_at': None,\n",
       "  'task_name': 'kkk',\n",
       "  'task_type': 'area',\n",
       "  'api_version': None,\n",
       "  'svc_version': '2.31.2',\n",
       "  'web_version': '2.31.2',\n",
       "  'expires_on': '2019-12-22T20:08:14.331384'}]"
      ]
     },
     "execution_count": 17,
     "metadata": {},
     "output_type": "execute_result"
    }
   ],
   "source": [
    "tasks_response = r.get('{}task'.format(api),params = params, headers=head).json() # Query the task service setting the params and header containing user token\n",
    "tasks_response                                                                    # Print tasks response"
   ]
  },
  {
   "cell_type": "markdown",
   "metadata": {},
   "source": [
    "#### Next, take the task id returned from the `task_response` that was generated when submitting your request, and use the AppEEARS API status service to check the status of your request."
   ]
  },
  {
   "cell_type": "code",
   "execution_count": 18,
   "metadata": {},
   "outputs": [
    {
     "data": {
      "text/plain": [
       "{'task_id': '3b00de7c-ca7d-4237-aa7f-3a0dd0d029d3',\n",
       " 'status': 'pending',\n",
       " 'user_id': 'aslan@denverco.us',\n",
       " 'updated': '2019-11-22T20:22:52.061968',\n",
       " 'status_type': 'task'}"
      ]
     },
     "execution_count": 18,
     "metadata": {},
     "output_type": "execute_result"
    }
   ],
   "source": [
    "task_id = task_response['task_id']                                               # Set task id from request submission\n",
    "status_response = r.get('{}status/{}'.format(api, task_id), headers=head).json() # Call status service with specific task ID and user credentials, return json\n",
    "status_response                                                                  # Print response"
   ]
  },
  {
   "cell_type": "markdown",
   "metadata": {},
   "source": [
    "#### Above, if your request is still processing, you can find information on the status of how close it is to completing. \n",
    "#### Below, call the task service for your request every 20 seconds to check the status of your request."
   ]
  },
  {
   "cell_type": "code",
   "execution_count": null,
   "metadata": {},
   "outputs": [
    {
     "name": "stdout",
     "output_type": "stream",
     "text": [
      "pending\n",
      "pending\n"
     ]
    }
   ],
   "source": [
    "# Ping API until request is complete, then continue to Section 4\n",
    "starttime = time.time()\n",
    "while r.get('{}task/{}'.format(api, task_id), headers=head).json()['status'] != 'done':\n",
    "    print(r.get('{}task/{}'.format(api, task_id), headers=head).json()['status'])\n",
    "    time.sleep(20.0 - ((time.time() - starttime) % 20.0))\n",
    "print(r.get('{}task/{}'.format(api, task_id), headers=head).json()['status'])"
   ]
  },
  {
   "cell_type": "markdown",
   "metadata": {},
   "source": [
    "***\n",
    "# 4. Download a Request [[Bundle API](https://lpdaacsvc.cr.usgs.gov/appeears/api/?language=Python%203#bundle)]\n",
    "#### Before downloading the request output, set up an output directory to store the output files, and examine the files contained in the request output. "
   ]
  },
  {
   "cell_type": "code",
   "execution_count": null,
   "metadata": {},
   "outputs": [],
   "source": [
    "destDir = os.path.join(inDir, task_name)                # Set up output directory using input directory and task name\n",
    "if not os.path.exists(destDir):os.makedirs(destDir)     # Create the output directory"
   ]
  },
  {
   "cell_type": "markdown",
   "metadata": {},
   "source": [
    "---\n",
    "## 4a. Explore Files in Request Output [[List Files](https://lpdaacsvc.cr.usgs.gov/appeears/api/?language=Python%203#list-files)]\n",
    "#### The bundle API provides information about completed tasks. For any completed task, a bundle can be queried to return the files contained as a part of the task request. Below, call the bundle API and return all of the output files."
   ]
  },
  {
   "cell_type": "code",
   "execution_count": null,
   "metadata": {},
   "outputs": [],
   "source": [
    "bundle = r.get('{}bundle/{}'.format(api,task_id)).json()  # Call API and return bundle contents for the task_id as json\n",
    "bundle                                                    # Print bundle contents"
   ]
  },
  {
   "cell_type": "markdown",
   "metadata": {},
   "source": [
    "***\n",
    "## 4b. Download Files in a Request (Automation) [[Download File](https://lpdaacsvc.cr.usgs.gov/appeears/api/?language=Python%203#download-file)]\n",
    "#### Now, use the contents of the bundle to select the file name and id and store as a dictionary. "
   ]
  },
  {
   "cell_type": "code",
   "execution_count": null,
   "metadata": {},
   "outputs": [],
   "source": [
    "files = {}                                                       # Create empty dictionary\n",
    "for f in bundle['files']: files[f['file_id']] = f['file_name']   # Fill dictionary with file_id as keys and file_name as values\n",
    "files    "
   ]
  },
  {
   "cell_type": "markdown",
   "metadata": {},
   "source": [
    "#### Use the `files` dictionary and a for loop to automate downloading all of the output files into the output directory. "
   ]
  },
  {
   "cell_type": "code",
   "execution_count": null,
   "metadata": {},
   "outputs": [],
   "source": [
    "for f in files:\n",
    "    dl = r.get('{}bundle/{}/{}'.format(api, task_id, f),stream=True)                                 # Get a stream to the bundle file\n",
    "    filename = os.path.basename(cgi.parse_header(dl.headers['Content-Disposition'])[1]['filename'])  # Parse the filename from the Content-Disposition header \n",
    "    filepath = os.path.join(destDir, filename)                                                       # Create output file path\n",
    "    with open(filepath, 'wb') as f:                                                                  # Write file to dest dir\n",
    "        for data in dl.iter_content(chunk_size=8192): f.write(data) \n",
    "print('Downloaded files can be found at: {}'.format(destDir))"
   ]
  },
  {
   "cell_type": "code",
   "execution_count": null,
   "metadata": {},
   "outputs": [],
   "source": []
  }
 ],
 "metadata": {
  "kernelspec": {
   "display_name": "Python 3",
   "language": "python",
   "name": "python3"
  },
  "language_info": {
   "codemirror_mode": {
    "name": "ipython",
    "version": 3
   },
   "file_extension": ".py",
   "mimetype": "text/x-python",
   "name": "python",
   "nbconvert_exporter": "python",
   "pygments_lexer": "ipython3",
   "version": "3.7.4"
  }
 },
 "nbformat": 4,
 "nbformat_minor": 2
}
